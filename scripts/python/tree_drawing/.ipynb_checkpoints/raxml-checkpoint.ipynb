{
 "cells": [
  {
   "cell_type": "code",
   "execution_count": null,
   "metadata": {},
   "outputs": [],
   "source": [
    "from Bio.Phylo.Applications import RaxmlCommandline\n",
    "\n",
    "raxml_cline = RaxmlCommandline(sequences = \".fasta\", model=\"GTRGAMMA\", algorithm=\"\", name=\"mafft_alignment_newheaders\", bootstrap_seed=\"2\", threads=\"2\", \n",
    "                              num_bootstrap_searches=\"500\")"
   ]
  }
 ],
 "metadata": {
  "kernelspec": {
   "display_name": "Python 3",
   "language": "python",
   "name": "python3"
  },
  "language_info": {
   "codemirror_mode": {
    "name": "ipython",
    "version": 3
   },
   "file_extension": ".py",
   "mimetype": "text/x-python",
   "name": "python",
   "nbconvert_exporter": "python",
   "pygments_lexer": "ipython3",
   "version": "3.6.8"
  }
 },
 "nbformat": 4,
 "nbformat_minor": 2
}
