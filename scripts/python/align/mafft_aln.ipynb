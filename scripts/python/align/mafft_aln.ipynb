{
 "cells": [
  {
   "cell_type": "code",
   "execution_count": 2,
   "metadata": {},
   "outputs": [
    {
     "name": "stdout",
     "output_type": "stream",
     "text": [
      "/usr/bin/mafft --globalpair --adjustdirection /home/corinn/Documents/sequences/ITS/pops/fasta/full_renamed_minus_aw_d_og_renamed.fasta\n",
      "DONE\n"
     ]
    }
   ],
   "source": [
    "from Bio.Align.Applications import MafftCommandline\n",
    "\n",
    "mafft_exe = \"/usr/bin/mafft\"\n",
    "in_file = \"/home/corinn/Documents/sequences/ITS/pops/fasta/full_renamed_minus_aw_d_og_renamed.fasta\"\n",
    "mafft_cline = MafftCommandline(mafft_exe, input = in_file)\n",
    "mafft_cline.adjustdirection = True\n",
    "mafft_cline.globalpair = True\n",
    "print(mafft_cline)\n",
    "stdout, stderr = mafft_cline()\n",
    "output_loc = \"/home/corinn/Documents/sequences/ITS/pops/fasta/\"\n",
    "output_prefix = in_file.split(\"/\")[-1].split(\".\")[0]\n",
    "output = output_loc + output_prefix + \"mafft.fasta\"\n",
    "with open(output, 'w') as handle:\n",
    "    handle.write(stdout)\n",
    "print(\"DONE\")"
   ]
  },
  {
   "cell_type": "code",
   "execution_count": null,
   "metadata": {},
   "outputs": [],
   "source": []
  }
 ],
 "metadata": {
  "kernelspec": {
   "display_name": "Python 3",
   "language": "python",
   "name": "python3"
  },
  "language_info": {
   "codemirror_mode": {
    "name": "ipython",
    "version": 3
   },
   "file_extension": ".py",
   "mimetype": "text/x-python",
   "name": "python",
   "nbconvert_exporter": "python",
   "pygments_lexer": "ipython3",
   "version": "3.6.9"
  }
 },
 "nbformat": 4,
 "nbformat_minor": 2
}
